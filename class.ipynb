{
 "cells": [
  {
   "cell_type": "code",
   "execution_count": null,
   "id": "2c453fd3",
   "metadata": {},
   "outputs": [],
   "source": [
    "# class & objects"
   ]
  },
  {
   "cell_type": "code",
   "execution_count": null,
   "id": "a4a74796",
   "metadata": {},
   "outputs": [],
   "source": [
    "class Student: # class: overview of what a student should be\n",
    "    \n",
    "    def __init__(self , name , major , gpa , is_on_probation):\n",
    "        self.name = name\n",
    "        self.major = major\n",
    "        self.gpa = gpa\n",
    "        self.is_on_probation = is_on_probation       "
   ]
  },
  {
   "cell_type": "code",
   "execution_count": null,
   "id": "628ef4ec",
   "metadata": {},
   "outputs": [],
   "source": [
    "student1 = Student(\"Jim\" , \"Business\" , 3.1 , False)\n",
    "print(student1)"
   ]
  },
  {
   "cell_type": "code",
   "execution_count": null,
   "id": "28c625b2",
   "metadata": {},
   "outputs": [],
   "source": [
    "print(student1.gpa)"
   ]
  },
  {
   "cell_type": "code",
   "execution_count": null,
   "id": "48cff8aa",
   "metadata": {},
   "outputs": [],
   "source": [
    "student2 = Student(\"Pam\" , \"Art\" , 2.5 , True)\n",
    "print(student2.gpa)"
   ]
  },
  {
   "cell_type": "code",
   "execution_count": null,
   "id": "477fd6e1",
   "metadata": {},
   "outputs": [],
   "source": [
    "# Building a quiz\n",
    "\n",
    "class Question:\n",
    "     def __init__(self, prompt, answer):\n",
    "          self.prompt = prompt\n",
    "          self.answer = answer\n",
    "\n",
    "question_prompts = [\n",
    "     \"What color are apples?\\n(a) Red/Green\\n(b)Orange\",\n",
    "     \"What color are bananas?\\n(a) Red/Green\\n(b)Yellow\",\n",
    "     \"What color are strawberries?\\n(a) Red/Green\\n(b)Yellow\",\n",
    "]\n",
    "\n",
    "questions = [\n",
    "     Question(question_prompts[0], \"a\"),\n",
    "     Question(question_prompts[1], \"c\"),\n",
    "     Question(question_prompts[2], \"b\"),\n",
    "]\n",
    "\n",
    "def run_test(questions):\n",
    "     score = 0\n",
    "     for question in questions:\n",
    "          answer = input(question.prompt)\n",
    "          if answer == question.answer:\n",
    "               score += 1\n",
    "     print(\"you got\", score, \"out of\", len(questions))\n",
    "\n",
    "run_test(questions)"
   ]
  },
  {
   "cell_type": "code",
   "execution_count": null,
   "id": "c627c68a",
   "metadata": {},
   "outputs": [],
   "source": [
    "# class methods\n",
    "\n",
    "class Student:\n",
    "    def __init__(self, name, major, gpa):\n",
    "        self.name = name\n",
    "        self.major = major\n",
    "        self.gpa = gpa\n",
    "    \n",
    "    def on_honor_roll(self):\n",
    "        if self.gpa >= 3.5:\n",
    "            return True\n",
    "        return False\n",
    "    \n",
    "student1 = Student(\"Oscar\" , \"Accounting\" , 3.1)\n",
    "student2 = Student(\"Phyllis\" , \"Business\" , 3.8)\n",
    "\n",
    "print(student2.on_honor_roll())\n"
   ]
  }
 ],
 "metadata": {
  "kernelspec": {
   "display_name": "Python 3 (ipykernel)",
   "language": "python",
   "name": "python3"
  },
  "language_info": {
   "codemirror_mode": {
    "name": "ipython",
    "version": 3
   },
   "file_extension": ".py",
   "mimetype": "text/x-python",
   "name": "python",
   "nbconvert_exporter": "python",
   "pygments_lexer": "ipython3",
   "version": "3.8.10"
  }
 },
 "nbformat": 4,
 "nbformat_minor": 5
}
