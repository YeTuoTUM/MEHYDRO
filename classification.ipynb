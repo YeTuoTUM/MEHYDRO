{
 "cells": [
  {
   "cell_type": "markdown",
   "id": "528b1cba",
   "metadata": {},
   "source": [
    "# Classification\n",
    "\n",
    "Classification is a task that requires the use of machine learning algorithms that learn how to assign a class label to examples from the problem domain. An easy to understand example is classifying emails as “spam” or “not spam.”\n",
    "\n",
    "In this lab, you will use three different classification algorithms: Logistic Regression and Support Vector Machines(SVM), and Decision Tree."
   ]
  },
  {
   "cell_type": "markdown",
   "id": "1514e7c0",
   "metadata": {},
   "source": [
    "## Three differnet algorithms with example dataset, [Iris dataset](https://scikit-learn.org/stable/auto_examples/datasets/plot_iris_dataset.html)"
   ]
  },
  {
   "cell_type": "code",
   "execution_count": null,
   "id": "a11b386c",
   "metadata": {
    "scrolled": true
   },
   "outputs": [],
   "source": [
    "import matplotlib.pyplot as plt\n",
    "import numpy as np\n",
    "import pandas as pd\n",
    "\n",
    "from sklearn import preprocessing\n",
    "from sklearn import svm, datasets\n",
    "from sklearn.inspection import DecisionBoundaryDisplay\n",
    "from sklearn.linear_model import LogisticRegression\n",
    "from sklearn.tree import DecisionTreeClassifier\n",
    "from sklearn.model_selection import KFold\n",
    "from sklearn.model_selection import train_test_split"
   ]
  },
  {
   "cell_type": "markdown",
   "id": "a8f40971",
   "metadata": {},
   "source": [
    "### Load the data"
   ]
  },
  {
   "cell_type": "code",
   "execution_count": null,
   "id": "32fdf446",
   "metadata": {},
   "outputs": [],
   "source": [
    "# Data\n",
    "iris = datasets.load_iris()\n",
    "# Take the first two features. We could avoid this by using a two-dim dataset\n",
    "X = iris.data[:, :2]\n",
    "y = iris.target\n",
    "print(y)\n",
    "titles = (\n",
    "    \"[0,0]\",\n",
    "    \"[0,1]\",\n",
    "    \"[1,0]\",\n",
    "    \"[1,1]\",\n",
    ")\n",
    "\n",
    "fig, ax = plt.subplots(2, 2)\n",
    "plt.subplots_adjust(wspace=0.4, hspace=0.4) \n",
    "#check how the parameters of function impact the figure\n",
    "ax[0 , 0].scatter(X[: , 0] , X[: , 1] , )\n",
    "ax[0 , 0].set_title(\"ax[0,0]\")\n",
    "ax[0 , 1].scatter(X[: , 0] , X[: , 1] , c=y)\n",
    "ax[0 , 1].set_title(\"ax[0,1]\")\n",
    "ax[1 , 0].scatter(X[: , 0] , X[: , 1] , c=y , cmap=plt.cm.coolwarm , s=20)\n",
    "ax[1 , 0].set_title(\"ax[1,0]\")\n",
    "ax[1 , 1].scatter(X[: , 0] , X[: , 1] , c=y, cmap=plt.cm.coolwarm, s=20, edgecolors=\"k\")\n",
    "ax[1 , 1].set_title(\"ax[1,1]\")"
   ]
  },
  {
   "cell_type": "markdown",
   "id": "3101e9ba",
   "metadata": {},
   "source": [
    "### Logistic Regression"
   ]
  },
  {
   "cell_type": "code",
   "execution_count": null,
   "id": "02eef4d5",
   "metadata": {},
   "outputs": [],
   "source": [
    "C = 1.0\n",
    "LR = LogisticRegression(C=C)\n",
    "LR.fit(X , y)"
   ]
  },
  {
   "cell_type": "code",
   "execution_count": null,
   "id": "e000911e",
   "metadata": {},
   "outputs": [],
   "source": [
    "# plot \n",
    "\n",
    "# title for the plots\n",
    "title = \"Logistic Regression\"\n",
    "\n",
    "# Set-up figure.\n",
    "fig, ax = plt.subplots(1 , 1)\n",
    "plt.subplots_adjust(wspace=0.4, hspace=0.4)\n",
    "\n",
    "X0, X1 = X[:, 0], X[:, 1]\n",
    "\n",
    "disp = DecisionBoundaryDisplay.from_estimator(\n",
    "        LR,\n",
    "        X,\n",
    "        response_method=\"predict\",\n",
    "        cmap=plt.cm.coolwarm,\n",
    "        alpha=0.8,\n",
    "        ax=ax,\n",
    "        xlabel=iris.feature_names[0],\n",
    "        ylabel=iris.feature_names[1],\n",
    "    )\n",
    "    \n",
    "ax.scatter(X0, X1, c=y, cmap=plt.cm.coolwarm, s=20, edgecolors=\"k\")\n",
    "ax.set_xticks(())\n",
    "ax.set_yticks(())\n",
    "ax.set_title(title)\n",
    "\n",
    "plt.show()"
   ]
  },
  {
   "cell_type": "markdown",
   "id": "278377e5",
   "metadata": {},
   "source": [
    "### Support vector machines"
   ]
  },
  {
   "cell_type": "code",
   "execution_count": null,
   "id": "f44be349",
   "metadata": {},
   "outputs": [],
   "source": [
    "# fit the model\n",
    "\n",
    "C = 1.0  # SVM regularization parameter\n",
    "svmmodel = svm.SVC(kernel=\"linear\", C=C)    \n",
    "model = svmmodel.fit(X, y)"
   ]
  },
  {
   "cell_type": "code",
   "execution_count": null,
   "id": "e86c458e",
   "metadata": {},
   "outputs": [],
   "source": [
    "# plot \n",
    "\n",
    "# title for the plots\n",
    "title = \"SVC with linear kernel\"\n",
    "\n",
    "# Set-up figure.\n",
    "fig, ax = plt.subplots(1 , 1)\n",
    "plt.subplots_adjust(wspace=0.4, hspace=0.4)\n",
    "\n",
    "X0, X1 = X[:, 0], X[:, 1]\n",
    "\n",
    "disp = DecisionBoundaryDisplay.from_estimator(\n",
    "        svmmodel,\n",
    "        X,\n",
    "        response_method=\"predict\",\n",
    "        cmap=plt.cm.coolwarm,\n",
    "        alpha=0.8,\n",
    "        ax=ax,\n",
    "        xlabel=iris.feature_names[0],\n",
    "        ylabel=iris.feature_names[1],\n",
    "    )\n",
    "    \n",
    "ax.scatter(X0, X1, c=y, cmap=plt.cm.coolwarm, s=20, edgecolors=\"k\")\n",
    "ax.set_xticks(())\n",
    "ax.set_yticks(())\n",
    "ax.set_title(title)\n",
    "\n",
    "plt.show()"
   ]
  },
  {
   "cell_type": "markdown",
   "id": "90f46b15",
   "metadata": {},
   "source": [
    "### Decision Tree Classifier"
   ]
  },
  {
   "cell_type": "code",
   "execution_count": null,
   "id": "0f01a4f5",
   "metadata": {},
   "outputs": [],
   "source": [
    "# fit the model\n",
    "\n",
    "C = 1.0  # SVM regularization parameter\n",
    "treemodel = DecisionTreeClassifier(random_state=0)\n",
    "model = treemodel.fit(X, y)"
   ]
  },
  {
   "cell_type": "code",
   "execution_count": null,
   "id": "e82226fb",
   "metadata": {},
   "outputs": [],
   "source": [
    "# plot \n",
    "\n",
    "# title for the plots\n",
    "title = \"Decision tree\"\n",
    "\n",
    "# Set-up figure.\n",
    "fig, ax = plt.subplots(1 , 1)\n",
    "plt.subplots_adjust(wspace=0.4, hspace=0.4)\n",
    "\n",
    "X0, X1 = X[:, 0], X[:, 1]\n",
    "\n",
    "disp = DecisionBoundaryDisplay.from_estimator(\n",
    "        treemodel,\n",
    "        X,\n",
    "        response_method=\"predict\",\n",
    "        cmap=plt.cm.coolwarm,\n",
    "        alpha=0.8,\n",
    "        ax=ax,\n",
    "        xlabel=iris.feature_names[0],\n",
    "        ylabel=iris.feature_names[1],\n",
    "    )\n",
    "    \n",
    "ax.scatter(X0, X1, c=y, cmap=plt.cm.coolwarm, s=20, edgecolors=\"k\")\n",
    "ax.set_xticks(())\n",
    "ax.set_yticks(())\n",
    "ax.set_title(title)\n",
    "\n",
    "plt.show()"
   ]
  },
  {
   "cell_type": "markdown",
   "id": "26a65f02",
   "metadata": {},
   "source": [
    "## Three differnet algorithms with Camels dataset\n",
    "[CAMELS](https://ral.ucar.edu/solutions/products/camels)(Catchment Attributes and Meteorology for Large-sample Studies), a community data set of daily forcing and hydrologic response data for 671 small- to medium-sized basins across the contiguous United States. In this lab, we will use location (latitude, longitude) and elevation information of 671 catchments from the camels dataset, we use location as input values and elevation as targets values to perform the classification methods."
   ]
  },
  {
   "cell_type": "markdown",
   "id": "f9f468d0",
   "metadata": {},
   "source": [
    "### Load the data from camels_topo.txt"
   ]
  },
  {
   "cell_type": "code",
   "execution_count": null,
   "id": "7bd60d2c",
   "metadata": {},
   "outputs": [],
   "source": [
    "with open('camels_topo.txt') as f:\n",
    "    lines = f.readlines()\n",
    "\n",
    "num_of_rows = len(lines)\n",
    "\n",
    "var = np.zeros((num_of_rows - 1 , 4)) # save first fourth variables\n",
    "                                      # in the files\n",
    "\n",
    "for num in range(1 , num_of_rows): # we don't need the first row\n",
    "    xx = lines[num] # variable to save each line of lines\n",
    "    l = []\n",
    "    for t in xx.split(';'):\n",
    "        try:\n",
    "            l.append(float(t))\n",
    "        except ValueError:\n",
    "            pass\n",
    "    var[num - 1 , :] = l[0 : 4]\n",
    "\n",
    "    \n",
    "fig, ax = plt.subplots(1, 1)\n",
    "plt.subplots_adjust(wspace=0.4, hspace=0.4)\n",
    "ax.scatter(var[: , 2] , var[: , 1] , c=var[: , 3], cmap=plt.cm.coolwarm, s=20, edgecolors=\"k\")\n",
    "ax.set_title(\"catchments with elevation(m)\")\n",
    "\n",
    "var = pd.DataFrame(var , columns = ['catchment_idx','lat','lon','elev'])"
   ]
  },
  {
   "cell_type": "markdown",
   "id": "134c6c61",
   "metadata": {},
   "source": [
    "### Cut the elevation into 4 levels\n",
    "Elevation data is continuous data, as we want to apply classification method on it, we need to separate the elevation data into several different levels and add the corresponding label on each level, which is artifical labels."
   ]
  },
  {
   "cell_type": "code",
   "execution_count": null,
   "id": "0bd0c5f4",
   "metadata": {},
   "outputs": [],
   "source": [
    "var['elev_class'] , range_of_quantile = pd.qcut(var['elev'], 4, labels=False , retbins=True)\n",
    "print(range_of_quantile)\n",
    "print(var['elev_class'])"
   ]
  },
  {
   "cell_type": "markdown",
   "id": "715f0e1f",
   "metadata": {},
   "source": [
    "### As shown in the above cell, we get 4 groups of levels, and the intervals was printed as in variable \"range_of_quantile\" , we labeled them as 0,1,2,3"
   ]
  },
  {
   "cell_type": "code",
   "execution_count": null,
   "id": "72f659ae",
   "metadata": {},
   "outputs": [],
   "source": [
    "var = np.array(var)\n",
    "fig, ax = plt.subplots(1, 1)\n",
    "plt.subplots_adjust(wspace=0.4, hspace=0.4)\n",
    "sc = ax.scatter(var[: , 2] , var[: , 1] , c=var[: , 4], cmap=plt.cm.coolwarm, s=20, edgecolors=\"k\")\n",
    "ax.set_title(\"elevation class\")\n",
    "bounds = [0, 1, 2, 3, 4]\n",
    "plt.colorbar(sc , ticks=bounds)\n",
    "X = var[: , [2,1]]\n",
    "y = var[: , 4]\n",
    "plt.show()"
   ]
  },
  {
   "cell_type": "markdown",
   "id": "31ca4c5c",
   "metadata": {},
   "source": [
    " ## Separate data into training and test part"
   ]
  },
  {
   "cell_type": "code",
   "execution_count": null,
   "id": "219bdab4",
   "metadata": {},
   "outputs": [],
   "source": [
    "X_train, X_test, y_train, y_test = train_test_split(X, y, test_size=0.2, shuffle=True)\n",
    "print(X_train.shape)"
   ]
  },
  {
   "cell_type": "markdown",
   "id": "eaee9b95",
   "metadata": {},
   "source": [
    "### Logistic Regression"
   ]
  },
  {
   "cell_type": "code",
   "execution_count": null,
   "id": "ffea80ec",
   "metadata": {},
   "outputs": [],
   "source": [
    "kf = KFold(n_splits=5)\n",
    "for train, test in kf.split(X_train): \n",
    "    X_kf_train, X_kf_test, y_kf_train, y_kf_test = X_train[train], X_train[test], y_train[train], y_train[test]\n",
    "    print(X_kf_train.shape)\n",
    "    C = 1.0\n",
    "    LR_camel = LogisticRegression(C=C , max_iter = 100000)\n",
    "    LR_camel.fit(X_kf_train[: , :] , y_kf_train)\n",
    "    \n",
    "LR_pred = LR_camel.predict(X_test)"
   ]
  },
  {
   "cell_type": "markdown",
   "id": "4b4fb792",
   "metadata": {},
   "source": [
    "### Testing performance"
   ]
  },
  {
   "cell_type": "code",
   "execution_count": null,
   "id": "669109bd",
   "metadata": {},
   "outputs": [],
   "source": [
    "print(\"testing score : %.3f\" % (LR_camel.score(X_test, y_test)))"
   ]
  },
  {
   "cell_type": "code",
   "execution_count": null,
   "id": "0d998ce8",
   "metadata": {},
   "outputs": [],
   "source": [
    "fig, ax = plt.subplots(2, 1 , figsize=(6, 10))\n",
    "plt.subplots_adjust(wspace=0.4, hspace=0.2)\n",
    "print(X_train.shape)\n",
    "disp = DecisionBoundaryDisplay.from_estimator(\n",
    "        LR_camel,\n",
    "        X[: , :],    \n",
    "        response_method=\"predict\",\n",
    "        cmap=plt.cm.coolwarm,\n",
    "        alpha=0.8,\n",
    "        ax=ax[0],\n",
    "        xlabel='lat',\n",
    "        ylabel='lon',\n",
    "    )\n",
    "cmap = plt.cm.get_cmap('PiYG', 4) \n",
    "ax[0].scatter(X[: , 0] , X[: , 1])\n",
    "sc1 = ax[0].scatter(X_test[: , 0] , X_test[: , 1] , c=LR_pred, cmap=cmap, s=20, edgecolors=\"k\")\n",
    "ax[0].set_title(\"Our prediction on test data\")\n",
    "ax[1].set_title(\"True value\")\n",
    "sc2 = ax[1].scatter(X[: , 0] , X[: , 1] , c=y, cmap=cmap, s=20, edgecolors=\"k\")\n",
    "bounds = [0, 1, 2, 3, 4]\n",
    "plt.colorbar(sc1 , ticks=bounds , ax = ax[0])\n",
    "plt.colorbar(sc2 , ticks=bounds , ax = ax[1])\n",
    "plt.show()"
   ]
  },
  {
   "cell_type": "markdown",
   "id": "b526e3cd",
   "metadata": {},
   "source": [
    "### Support Vector Machine(SVM)"
   ]
  },
  {
   "cell_type": "code",
   "execution_count": null,
   "id": "c42c0272",
   "metadata": {},
   "outputs": [],
   "source": [
    "kf = KFold(n_splits=5)\n",
    "for train, test in kf.split(X_train):\n",
    "    X_kf_train, X_kf_test, y_kf_train, y_kf_test = X_train[train], X_train[test], y_train[train], y_train[test]\n",
    "    C = 1.0\n",
    "    SVC_camel = svm.SVC(kernel=\"linear\", C=C)\n",
    "    SVC_camel.fit(X_kf_train , y_kf_train)\n",
    "SVC_pred = SVC_camel.predict(X_test)"
   ]
  },
  {
   "cell_type": "markdown",
   "id": "e3a96382",
   "metadata": {},
   "source": [
    "### Testing performance"
   ]
  },
  {
   "cell_type": "code",
   "execution_count": null,
   "id": "4cbbf485",
   "metadata": {},
   "outputs": [],
   "source": [
    "print(\"testing score : %.3f\" % (SVC_camel.score(X_test, y_test)))"
   ]
  },
  {
   "cell_type": "code",
   "execution_count": null,
   "id": "5305411a",
   "metadata": {},
   "outputs": [],
   "source": [
    "fig, ax = plt.subplots(2, 1 , figsize=(6, 10))\n",
    "plt.subplots_adjust(wspace=0.4, hspace=0.2)\n",
    "\n",
    "disp = DecisionBoundaryDisplay.from_estimator(\n",
    "        SVC_camel,\n",
    "        X[: , :],       \n",
    "        response_method=\"predict\",\n",
    "        cmap=plt.cm.coolwarm,\n",
    "        alpha=0.8,\n",
    "        ax=ax[0],\n",
    "        xlabel='lat',\n",
    "        ylabel='lon',\n",
    "    )\n",
    "\n",
    "cmap = plt.cm.get_cmap('PiYG', 4) \n",
    "\n",
    "ax[0].scatter(X[: , 0] , X[: , 1])\n",
    "sc1 = ax[0].scatter(X_test[: , 0] , X_test[: , 1] , c=SVC_pred, cmap=cmap, s=20, edgecolors=\"k\")\n",
    "ax[0].set_title(\"Our prediction on test data\")\n",
    "ax[1].set_title(\"True value\")\n",
    "sc2 = ax[1].scatter(X[: , 0] , X[: , 1] , c=y, cmap=cmap, s=20, edgecolors=\"k\")\n",
    "bounds = [0, 1, 2, 3]\n",
    "\n",
    "\n",
    "\n",
    "plt.colorbar(sc1 , ticks=bounds , ax = ax[0])\n",
    "plt.colorbar(sc2 , ticks=bounds , ax = ax[1])\n",
    "plt.show()"
   ]
  },
  {
   "cell_type": "markdown",
   "id": "55fb115e",
   "metadata": {},
   "source": [
    "### Decision tree"
   ]
  },
  {
   "cell_type": "code",
   "execution_count": null,
   "id": "11e7333c",
   "metadata": {},
   "outputs": [],
   "source": [
    "kf = KFold(n_splits=5)\n",
    "for train, test in kf.split(X_train):\n",
    "    X_kf_train, X_kf_test, y_kf_train, y_kf_test = X_train[train], X_train[test], y_train[train], y_train[test]\n",
    "    C = 1.0\n",
    "    DT_camel = DecisionTreeClassifier(random_state=0)\n",
    "    DT_camel.fit(X_kf_train , y_kf_train)\n",
    "DT_pred = DT_camel.predict(X_test)"
   ]
  },
  {
   "cell_type": "markdown",
   "id": "3e0a58a4",
   "metadata": {},
   "source": [
    "### Testing performance"
   ]
  },
  {
   "cell_type": "code",
   "execution_count": null,
   "id": "180a88e3",
   "metadata": {},
   "outputs": [],
   "source": [
    "print(\"testing score : %.3f\" % (DT_camel.score(X_test, y_test)))"
   ]
  },
  {
   "cell_type": "code",
   "execution_count": null,
   "id": "3f567f16",
   "metadata": {},
   "outputs": [],
   "source": [
    "fig, ax = plt.subplots(2, 1 , figsize=(6, 10))\n",
    "plt.subplots_adjust(wspace=0.4, hspace=0.2)\n",
    "\n",
    "disp = DecisionBoundaryDisplay.from_estimator(\n",
    "        DT_camel,\n",
    "        X[: , :],       \n",
    "        response_method=\"predict\",\n",
    "        cmap=plt.cm.coolwarm,\n",
    "        alpha=0.8,\n",
    "        ax=ax[0],\n",
    "        xlabel='lat',\n",
    "        ylabel='lon',\n",
    "    )\n",
    "\n",
    "cmap = plt.cm.get_cmap('PiYG', 4) \n",
    "\n",
    "ax[0].scatter(X[: , 0] , X[: , 1])\n",
    "sc1 = ax[0].scatter(X_test[: , 0] , X_test[: , 1] , c=SVC_pred, cmap=cmap, s=20, edgecolors=\"k\")\n",
    "ax[0].set_title(\"Our prediction on test data\")\n",
    "ax[1].set_title(\"True value\")\n",
    "sc2 = ax[1].scatter(X[: , 0] , X[: , 1] , c=y, cmap=cmap, s=20, edgecolors=\"k\")\n",
    "bounds = [0, 1, 2, 3]\n",
    "\n",
    "\n",
    "\n",
    "plt.colorbar(sc1 , ticks=bounds , ax = ax[0])\n",
    "plt.colorbar(sc2 , ticks=bounds , ax = ax[1])\n",
    "plt.show()"
   ]
  },
  {
   "cell_type": "markdown",
   "id": "2e872879",
   "metadata": {},
   "source": [
    "## Apply pipeline to the support vector machine method\n",
    "The purpose of the [pipeline](https://scikit-learn.org/stable/modules/generated/sklearn.pipeline.Pipeline.html) is to assemble several steps that can be cross-validated together while setting different parameters.\n",
    "\n",
    "Use a pipeline can also output the accuracy score of each fold."
   ]
  },
  {
   "cell_type": "code",
   "execution_count": null,
   "id": "d1248c06",
   "metadata": {},
   "outputs": [],
   "source": [
    "from sklearn.model_selection import cross_val_score\n",
    "from sklearn.pipeline import make_pipeline\n",
    "from sklearn.preprocessing import StandardScaler"
   ]
  },
  {
   "cell_type": "code",
   "execution_count": null,
   "id": "1f155d9f",
   "metadata": {},
   "outputs": [],
   "source": [
    "pipeline = make_pipeline(StandardScaler(), svm.SVC(kernel=\"linear\", C=C))\n",
    "scores = cross_val_score(pipeline, X=X_train, y=y_train, cv=5, n_jobs=1)\n",
    "# cv=5 represents the StratifiedKFold with 5 folds\n",
    "\n",
    "print('Cross Validation accuracy scores: %s' % scores)\n",
    "# print the accuracy score of every fold\n",
    "\n",
    "print('Cross Validation accuracy: %.3f +/- %.3f' % (np.mean(scores),np.std(scores)))"
   ]
  }
 ],
 "metadata": {
  "kernelspec": {
   "display_name": "Python 3 (ipykernel)",
   "language": "python",
   "name": "python3"
  },
  "language_info": {
   "codemirror_mode": {
    "name": "ipython",
    "version": 3
   },
   "file_extension": ".py",
   "mimetype": "text/x-python",
   "name": "python",
   "nbconvert_exporter": "python",
   "pygments_lexer": "ipython3",
   "version": "3.8.13"
  }
 },
 "nbformat": 4,
 "nbformat_minor": 5
}
