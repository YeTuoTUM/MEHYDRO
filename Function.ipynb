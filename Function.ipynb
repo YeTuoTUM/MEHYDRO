{
 "cells": [
  {
   "cell_type": "code",
   "execution_count": null,
   "id": "e5513689",
   "metadata": {},
   "outputs": [],
   "source": [
    "# Functions"
   ]
  },
  {
   "cell_type": "code",
   "execution_count": null,
   "id": "776e5a2d",
   "metadata": {},
   "outputs": [],
   "source": [
    "def sayhi(): # def: key word for a function\n",
    "#Tab#\n",
    "    print(\"Hello User\")    "
   ]
  },
  {
   "cell_type": "code",
   "execution_count": null,
   "id": "75679e1f",
   "metadata": {},
   "outputs": [],
   "source": [
    "sayhi() # Call the function"
   ]
  },
  {
   "cell_type": "code",
   "execution_count": null,
   "id": "8136a5c0",
   "metadata": {},
   "outputs": [],
   "source": [
    "print(\"Top\")\n",
    "sayhi()\n",
    "print(\"bottom\")"
   ]
  },
  {
   "cell_type": "code",
   "execution_count": null,
   "id": "139aefaf",
   "metadata": {},
   "outputs": [],
   "source": [
    "def sayhi(name):\n",
    "    print(\"Hello \" + name)\n",
    "    \n",
    "sayhi(\"Mike\")\n",
    "sayhi(\"Steve\")"
   ]
  },
  {
   "cell_type": "code",
   "execution_count": null,
   "id": "5f6c3a79",
   "metadata": {},
   "outputs": [],
   "source": [
    "def sayhi(name , age): # Parameter\n",
    "    print(\"Hello \" + name + \", you are \" + age)\n",
    "    \n",
    "sayhi(\"Mike\" , \"35\")\n",
    "sayhi(\"Steve\" , \"70\")"
   ]
  },
  {
   "cell_type": "code",
   "execution_count": null,
   "id": "6bdda587",
   "metadata": {},
   "outputs": [],
   "source": [
    "def sayhi(name , age):\n",
    "    print(\"Hello \" + name + \", you are \" + str(age))\n",
    "    \n",
    "sayhi(\"Mike\" , 35)\n",
    "sayhi(\"Steve\" , 70)"
   ]
  },
  {
   "cell_type": "code",
   "execution_count": null,
   "id": "ba41cfad",
   "metadata": {},
   "outputs": [],
   "source": [
    "# Return Statement"
   ]
  },
  {
   "cell_type": "code",
   "execution_count": null,
   "id": "813a7dc7",
   "metadata": {},
   "outputs": [],
   "source": [
    "def cube(num):\n",
    "    num * num * num"
   ]
  },
  {
   "cell_type": "code",
   "execution_count": null,
   "id": "e0cca9ac",
   "metadata": {},
   "outputs": [],
   "source": [
    "cube(3)\n",
    "print(cube(3))"
   ]
  },
  {
   "cell_type": "code",
   "execution_count": null,
   "id": "854c80e0",
   "metadata": {},
   "outputs": [],
   "source": [
    "def cube(num):\n",
    "    return num * num * num"
   ]
  },
  {
   "cell_type": "code",
   "execution_count": null,
   "id": "fe4d32cf",
   "metadata": {},
   "outputs": [],
   "source": [
    "print(cube(3))"
   ]
  },
  {
   "cell_type": "code",
   "execution_count": null,
   "id": "dd4407a9",
   "metadata": {},
   "outputs": [],
   "source": [
    "result = cube(4)\n",
    "print(result)"
   ]
  }
 ],
 "metadata": {
  "kernelspec": {
   "display_name": "Python 3 (ipykernel)",
   "language": "python",
   "name": "python3"
  },
  "language_info": {
   "codemirror_mode": {
    "name": "ipython",
    "version": 3
   },
   "file_extension": ".py",
   "mimetype": "text/x-python",
   "name": "python",
   "nbconvert_exporter": "python",
   "pygments_lexer": "ipython3",
   "version": "3.8.10"
  }
 },
 "nbformat": 4,
 "nbformat_minor": 5
}
