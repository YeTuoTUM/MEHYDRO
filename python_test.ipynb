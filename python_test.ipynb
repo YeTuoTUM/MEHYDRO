{
 "cells": [
  {
   "cell_type": "markdown",
   "metadata": {},
   "source": [
    "# python test\n",
    "\n",
    "**Problem statement:**\n",
    "\n",
    "Write a **function**:\n",
    "```\n",
    "def Solution(A , B , K)\n",
    "```\n",
    "\n",
    "that, given three integers A, B and K, returns the number of integers within the range [A..B] that are divisible by K, i.e.:\n",
    "```   \n",
    "{ i : A ≤ i ≤ B, i mod K = 0 }\n",
    "``` \n",
    "\n",
    "For example, for A = 3, B = 6 and K = 2, your function should return 2, because there are 2 numbers divisible by 2 within the range [3..6], namely 4 and 6.\n",
    "\n",
    "Write an efficient algorithm for the following assumptions:\n",
    "\n",
    "1. A and B are integers within the range [0..2,000,000,000];\n",
    "2. K is an integer within the range [1..2,000,000,000];\n",
    "3. A ≤ B.\n",
    "\n",
    "\n",
    "Some test cases:\n",
    "\n",
    "[1,1,1] = 1\n",
    "\n",
    "[0,99,2] = 50\n",
    "\n",
    "[0, 100, 3] = 34  \n",
    "\n",
    "[11,345,17] = 20\n",
    "\n",
    "[10,10,5] = 1\n",
    "\n",
    "[3, 6, 2] = 2\n",
    "\n",
    "[6,11,2] = 3  \n",
    "\n",
    "[16,29,7] = 2\n",
    "\n",
    "[1,2,1] = 2   \n",
    "\n"
   ]
  }
 ],
 "metadata": {
  "kernelspec": {
   "display_name": "Python 3 (ipykernel)",
   "language": "python",
   "name": "python3"
  },
  "language_info": {
   "codemirror_mode": {
    "name": "ipython",
    "version": 3
   },
   "file_extension": ".py",
   "mimetype": "text/x-python",
   "name": "python",
   "nbconvert_exporter": "python",
   "pygments_lexer": "ipython3",
   "version": "3.8.10"
  }
 },
 "nbformat": 4,
 "nbformat_minor": 4
}
