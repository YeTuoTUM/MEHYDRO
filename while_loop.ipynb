{
 "cells": [
  {
   "cell_type": "code",
   "execution_count": null,
   "id": "74507fc0",
   "metadata": {},
   "outputs": [],
   "source": [
    "# while loop"
   ]
  },
  {
   "cell_type": "code",
   "execution_count": null,
   "id": "ae22d59f",
   "metadata": {},
   "outputs": [],
   "source": [
    "i = 1\n",
    "\n",
    "#while (loop condition):\n",
    "while i <= 10:\n",
    "    print(i)\n",
    "    i += 1 # equals to i = i + 1\n",
    "    \n",
    "print(\"Done with loop\")"
   ]
  },
  {
   "cell_type": "code",
   "execution_count": null,
   "id": "109f1bcd",
   "metadata": {},
   "outputs": [],
   "source": [
    "# Guessing game\n",
    "secret_word = \"giraffe\"\n",
    "guess = \"\"\n",
    "guess_count = 0\n",
    "guess_limit = 3\n",
    "out_of_guesses = False\n",
    "\n",
    "while guess != secret_word and not(out_of_guesses):\n",
    "     if guess_count < guess_limit:\n",
    "          guess = input(\"Enter a guess: \")\n",
    "          guess_count += 1\n",
    "     else:\n",
    "          out_of_guesses = True\n",
    "\n",
    "if out_of_guesses:\n",
    "     print(\"You Lose!\")\n",
    "else:\n",
    "     print(\"You Win!\")"
   ]
  }
 ],
 "metadata": {
  "kernelspec": {
   "display_name": "Python 3 (ipykernel)",
   "language": "python",
   "name": "python3"
  },
  "language_info": {
   "codemirror_mode": {
    "name": "ipython",
    "version": 3
   },
   "file_extension": ".py",
   "mimetype": "text/x-python",
   "name": "python",
   "nbconvert_exporter": "python",
   "pygments_lexer": "ipython3",
   "version": "3.8.10"
  }
 },
 "nbformat": 4,
 "nbformat_minor": 5
}
