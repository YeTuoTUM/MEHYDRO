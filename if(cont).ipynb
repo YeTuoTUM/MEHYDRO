{
 "cells": [
  {
   "cell_type": "code",
   "execution_count": null,
   "id": "0a1f6e10",
   "metadata": {},
   "outputs": [],
   "source": [
    "# if statements(cont)"
   ]
  },
  {
   "cell_type": "code",
   "execution_count": null,
   "id": "a29ede3d",
   "metadata": {},
   "outputs": [],
   "source": [
    "def max_num(num1 , num2 , num3):\n",
    "    if num1 >= num2 and num1 >= num3:\n",
    "        return num1\n",
    "    elif num2 >= num1 and num2 >= num3:\n",
    "        return num2\n",
    "    else:\n",
    "        return num3"
   ]
  },
  {
   "cell_type": "code",
   "execution_count": null,
   "id": "40219445",
   "metadata": {},
   "outputs": [],
   "source": [
    "print(max_num(300 , 40 , 5))"
   ]
  }
 ],
 "metadata": {
  "kernelspec": {
   "display_name": "Python 3 (ipykernel)",
   "language": "python",
   "name": "python3"
  },
  "language_info": {
   "codemirror_mode": {
    "name": "ipython",
    "version": 3
   },
   "file_extension": ".py",
   "mimetype": "text/x-python",
   "name": "python",
   "nbconvert_exporter": "python",
   "pygments_lexer": "ipython3",
   "version": "3.8.10"
  }
 },
 "nbformat": 4,
 "nbformat_minor": 5
}
