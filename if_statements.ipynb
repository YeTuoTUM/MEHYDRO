{
 "cells": [
  {
   "cell_type": "code",
   "execution_count": null,
   "id": "d4271c5e",
   "metadata": {},
   "outputs": [],
   "source": [
    "# if statements"
   ]
  },
  {
   "cell_type": "code",
   "execution_count": null,
   "id": "f434e8f5",
   "metadata": {},
   "outputs": [],
   "source": [
    "is_male = True\n",
    "\n",
    "if is_male:\n",
    "    print(\"You are a male\")"
   ]
  },
  {
   "cell_type": "code",
   "execution_count": null,
   "id": "e4b3d477",
   "metadata": {},
   "outputs": [],
   "source": [
    "is_male = False\n",
    "\n",
    "if is_male:\n",
    "    print(\"You are a male\")"
   ]
  },
  {
   "cell_type": "code",
   "execution_count": null,
   "id": "b3787672",
   "metadata": {},
   "outputs": [],
   "source": [
    "is_male = False\n",
    "\n",
    "if is_male:\n",
    "    print(\"You are a male\")\n",
    "else:\n",
    "    print(\"You are not a male\")"
   ]
  },
  {
   "cell_type": "code",
   "execution_count": null,
   "id": "ef867426",
   "metadata": {},
   "outputs": [],
   "source": [
    "is_male = True\n",
    "\n",
    "if is_male:\n",
    "    print(\"You are a male\")\n",
    "else:\n",
    "    print(\"You are not a male\")"
   ]
  },
  {
   "cell_type": "code",
   "execution_count": null,
   "id": "5013bde7",
   "metadata": {},
   "outputs": [],
   "source": [
    "is_male = True\n",
    "is_tall = True\n",
    "\n",
    "if is_male or is_tall:\n",
    "    print(\"You are a male or tall or borh\")\n",
    "else:\n",
    "    print(\"You are neither male nor tall\")"
   ]
  },
  {
   "cell_type": "code",
   "execution_count": null,
   "id": "5d8fd370",
   "metadata": {},
   "outputs": [],
   "source": [
    "is_male = False\n",
    "is_tall = True\n",
    "\n",
    "if is_male or is_tall:\n",
    "    print(\"You are a male or tall or borh\")\n",
    "else:\n",
    "    print(\"You are neither male nor tall\")"
   ]
  },
  {
   "cell_type": "code",
   "execution_count": null,
   "id": "7297fc0e",
   "metadata": {},
   "outputs": [],
   "source": [
    "is_male = False\n",
    "is_tall = False\n",
    "\n",
    "if is_male or is_tall:\n",
    "    print(\"You are a male or tall or borh\")\n",
    "else:\n",
    "    print(\"You are neither male nor tall\")"
   ]
  },
  {
   "cell_type": "code",
   "execution_count": null,
   "id": "33a8e954",
   "metadata": {},
   "outputs": [],
   "source": [
    "is_male = False\n",
    "is_tall = False\n",
    "\n",
    "if is_male and is_tall:\n",
    "    print(\"You are a tall male\")\n",
    "else:\n",
    "    print(\"You are either not male or not tall or both\")"
   ]
  },
  {
   "cell_type": "code",
   "execution_count": null,
   "id": "7e8086f9",
   "metadata": {},
   "outputs": [],
   "source": [
    "is_male = True\n",
    "is_tall = True\n",
    "\n",
    "if is_male and is_tall:\n",
    "    print(\"You are a tall male\")\n",
    "else:\n",
    "    print(\"You are either not male or not tall or both\")"
   ]
  },
  {
   "cell_type": "code",
   "execution_count": null,
   "id": "0bc80157",
   "metadata": {},
   "outputs": [],
   "source": [
    "is_male = False\n",
    "is_tall = True\n",
    "\n",
    "if is_male and is_tall:\n",
    "    print(\"You are a tall male\")\n",
    "elif is_male and not(is_tall):\n",
    "    print(\"You are a short male\")\n",
    "elif not(is_male) and is_tall:\n",
    "    print(\"You are not a male but tall\")\n",
    "else:\n",
    "    print(\"You are either not male or not tall or both\")"
   ]
  }
 ],
 "metadata": {
  "kernelspec": {
   "display_name": "Python 3 (ipykernel)",
   "language": "python",
   "name": "python3"
  },
  "language_info": {
   "codemirror_mode": {
    "name": "ipython",
    "version": 3
   },
   "file_extension": ".py",
   "mimetype": "text/x-python",
   "name": "python",
   "nbconvert_exporter": "python",
   "pygments_lexer": "ipython3",
   "version": "3.8.10"
  }
 },
 "nbformat": 4,
 "nbformat_minor": 5
}
