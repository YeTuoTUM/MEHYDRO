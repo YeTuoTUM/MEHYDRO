{
 "cells": [
  {
   "cell_type": "code",
   "execution_count": null,
   "id": "daac9419",
   "metadata": {},
   "outputs": [],
   "source": [
    "# for loop"
   ]
  },
  {
   "cell_type": "code",
   "execution_count": null,
   "id": "4c0428a5",
   "metadata": {},
   "outputs": [],
   "source": [
    "for letter in \"Giraffe Academy\":\n",
    "    print(letter)"
   ]
  },
  {
   "cell_type": "code",
   "execution_count": null,
   "id": "6fddec0d",
   "metadata": {},
   "outputs": [],
   "source": [
    "friends = [\"Jim\" , \"Karen\" , \"Kevin\"]\n",
    "for friend in friends:\n",
    "    print(friend)"
   ]
  },
  {
   "cell_type": "code",
   "execution_count": null,
   "id": "810756a4",
   "metadata": {},
   "outputs": [],
   "source": [
    "for index in range(10):\n",
    "    print(index)"
   ]
  },
  {
   "cell_type": "code",
   "execution_count": null,
   "id": "e3e28b65",
   "metadata": {},
   "outputs": [],
   "source": [
    "for index in range(3 , 10):\n",
    "    print(index)"
   ]
  },
  {
   "cell_type": "code",
   "execution_count": null,
   "id": "c6b9ba66",
   "metadata": {},
   "outputs": [],
   "source": [
    "friends = [\"Jim\" , \"Karen\" , \"Kevin\"]\n",
    "for index in range(len(friends)):\n",
    "    print(friends[index])"
   ]
  },
  {
   "cell_type": "code",
   "execution_count": null,
   "id": "ce21000e",
   "metadata": {},
   "outputs": [],
   "source": [
    "for index in range(5):\n",
    "    if index == 0:\n",
    "        print(\"first Iteration\")\n",
    "    else:\n",
    "        print(\"Not first\")"
   ]
  },
  {
   "cell_type": "code",
   "execution_count": null,
   "id": "8b372f1d",
   "metadata": {},
   "outputs": [],
   "source": [
    "# exponent function\n",
    "def raise_to_power(base_num, pow_num):\n",
    "     result = 1\n",
    "     for index in range(pow_num):\n",
    "          result *= base_num\n",
    "     return result\n",
    "\n",
    "print(raise_to_power(3 , 2))"
   ]
  },
  {
   "cell_type": "code",
   "execution_count": null,
   "id": "5323f28f",
   "metadata": {},
   "outputs": [],
   "source": [
    "# 2d list & nested loops\n",
    "\n",
    "number_grid = [\n",
    "    [1 , 2 , 3],\n",
    "    [4 , 5 , 6],\n",
    "    [7 , 8 , 9],\n",
    "    [0]\n",
    "]\n",
    "\n",
    "print(number_grid[2][1])\n",
    "\n"
   ]
  },
  {
   "cell_type": "code",
   "execution_count": null,
   "id": "23d3b212",
   "metadata": {},
   "outputs": [],
   "source": [
    "for row in number_grid:\n",
    "    print(row)"
   ]
  },
  {
   "cell_type": "code",
   "execution_count": null,
   "id": "6f1397dc",
   "metadata": {},
   "outputs": [],
   "source": [
    "for row in number_grid:\n",
    "    for col in row:\n",
    "        print(col)"
   ]
  }
 ],
 "metadata": {
  "kernelspec": {
   "display_name": "Python 3 (ipykernel)",
   "language": "python",
   "name": "python3"
  },
  "language_info": {
   "codemirror_mode": {
    "name": "ipython",
    "version": 3
   },
   "file_extension": ".py",
   "mimetype": "text/x-python",
   "name": "python",
   "nbconvert_exporter": "python",
   "pygments_lexer": "ipython3",
   "version": "3.8.10"
  }
 },
 "nbformat": 4,
 "nbformat_minor": 5
}
