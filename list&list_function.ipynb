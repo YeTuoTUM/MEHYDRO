{
 "cells": [
  {
   "cell_type": "code",
   "execution_count": null,
   "id": "c039fcf0",
   "metadata": {},
   "outputs": [],
   "source": [
    "# List & List functions"
   ]
  },
  {
   "cell_type": "code",
   "execution_count": null,
   "id": "5c552a4d",
   "metadata": {},
   "outputs": [],
   "source": [
    "# List : creat a list\n",
    "friends = [] # Creat a list with opening closed square brackets\n",
    "friends = [\"Kevin\" , \"Karen\" , \"Jim\"] # Give values to a list(strings, numbers, booleans)"
   ]
  },
  {
   "cell_type": "code",
   "execution_count": null,
   "id": "1a429b64",
   "metadata": {
    "scrolled": true
   },
   "outputs": [],
   "source": [
    "print(friends) # Access the values of a list"
   ]
  },
  {
   "cell_type": "code",
   "execution_count": null,
   "id": "2b9e09eb",
   "metadata": {},
   "outputs": [],
   "source": [
    "print(friends[2]) # Index starts from 0"
   ]
  },
  {
   "cell_type": "code",
   "execution_count": null,
   "id": "cf07fcad",
   "metadata": {},
   "outputs": [],
   "source": [
    "print(friends[1:])"
   ]
  },
  {
   "cell_type": "code",
   "execution_count": null,
   "id": "8c5f764e",
   "metadata": {},
   "outputs": [],
   "source": [
    "print(friends[:])"
   ]
  },
  {
   "cell_type": "code",
   "execution_count": null,
   "id": "939b0920",
   "metadata": {},
   "outputs": [],
   "source": [
    "# List functions\n",
    "lucky_numbers = [4 , 8 , 15 , 16 , 23 , 42]\n",
    "friends = [\"Kevin\" , \"Karen\" , \"Jim\" , \"Oscar\"]\n",
    "print(friends)"
   ]
  },
  {
   "cell_type": "code",
   "execution_count": null,
   "id": "72f303eb",
   "metadata": {},
   "outputs": [],
   "source": [
    "friends.extend(lucky_numbers)\n",
    "print(friends)"
   ]
  },
  {
   "cell_type": "code",
   "execution_count": null,
   "id": "91cc25fe",
   "metadata": {},
   "outputs": [],
   "source": [
    "friends.append(\"Creed\")\n",
    "print(friends)"
   ]
  },
  {
   "cell_type": "code",
   "execution_count": null,
   "id": "e72f098f",
   "metadata": {},
   "outputs": [],
   "source": [
    "friends.insert(1, \"Kelly\")\n",
    "print( friends )"
   ]
  },
  {
   "cell_type": "code",
   "execution_count": null,
   "id": "5211d8e6",
   "metadata": {},
   "outputs": [],
   "source": [
    "friends.remove( \"Jim\")\n",
    "print( friends )"
   ]
  },
  {
   "cell_type": "code",
   "execution_count": null,
   "id": "0561b89c",
   "metadata": {},
   "outputs": [],
   "source": [
    "friends.clear()\n",
    "print( friends )"
   ]
  },
  {
   "cell_type": "code",
   "execution_count": null,
   "id": "3524ba05",
   "metadata": {},
   "outputs": [],
   "source": [
    "friends = [\"Kevin\" , \"Karen\" , \"Jim\" , \"Oscar\"]\n",
    "friends.pop()\n",
    "print(friends)"
   ]
  },
  {
   "cell_type": "code",
   "execution_count": null,
   "id": "5ac93b1e",
   "metadata": {},
   "outputs": [],
   "source": [
    "friends = [\"Kevin\" , \"Karen\" , \"Jim\" , \"Oscar\"]\n",
    "print(friends.index(\"Kevin\"))"
   ]
  },
  {
   "cell_type": "code",
   "execution_count": null,
   "id": "83156777",
   "metadata": {},
   "outputs": [],
   "source": [
    "friends = [\"Kevin\" , \"Karen\" , \"Jim\" , \"Oscar\"]\n",
    "print(friends.index(\"Oscar\"))"
   ]
  },
  {
   "cell_type": "code",
   "execution_count": null,
   "id": "f72827f9",
   "metadata": {},
   "outputs": [],
   "source": [
    "friends = [\"Kevin\" , \"Karen\" , \"Jim\" , \"Oscar\"]\n",
    "print(friends.index(\"Mike\"))"
   ]
  },
  {
   "cell_type": "code",
   "execution_count": null,
   "id": "d3d89171",
   "metadata": {},
   "outputs": [],
   "source": [
    "friends = [\"Kevin\" , \"Karen\" , \"Jim\" , \"Jim\" , \"Oscar\"]\n",
    "print(friends.count(\"Jim\"))"
   ]
  },
  {
   "cell_type": "code",
   "execution_count": null,
   "id": "6d900486",
   "metadata": {},
   "outputs": [],
   "source": [
    "friends = [\"Kevin\" , \"Karen\" , \"Jim\"  , \"Oscar\"]\n",
    "friends.sort()\n",
    "print(friends)"
   ]
  },
  {
   "cell_type": "code",
   "execution_count": null,
   "id": "7c965516",
   "metadata": {},
   "outputs": [],
   "source": [
    "lucky_numbers = [4 , 8 , 15 , 16 , 23 , 42]\n",
    "lucky_numbers.reverse()\n",
    "print(lucky_numbers)"
   ]
  },
  {
   "cell_type": "code",
   "execution_count": null,
   "id": "c095cbe0",
   "metadata": {},
   "outputs": [],
   "source": [
    "friends = [\"Kevin\" , \"Karen\" , \"Jim\"  , \"Oscar\"]\n",
    "friends2 = friends.copy()\n",
    "print(friends2)"
   ]
  }
 ],
 "metadata": {
  "kernelspec": {
   "display_name": "Python 3 (ipykernel)",
   "language": "python",
   "name": "python3"
  },
  "language_info": {
   "codemirror_mode": {
    "name": "ipython",
    "version": 3
   },
   "file_extension": ".py",
   "mimetype": "text/x-python",
   "name": "python",
   "nbconvert_exporter": "python",
   "pygments_lexer": "ipython3",
   "version": "3.8.10"
  }
 },
 "nbformat": 4,
 "nbformat_minor": 5
}
