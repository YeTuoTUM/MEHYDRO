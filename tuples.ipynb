{
 "cells": [
  {
   "cell_type": "code",
   "execution_count": null,
   "id": "3c1c2ebe",
   "metadata": {},
   "outputs": [],
   "source": [
    "# Tuples"
   ]
  },
  {
   "cell_type": "code",
   "execution_count": null,
   "id": "4c434c99",
   "metadata": {},
   "outputs": [],
   "source": [
    "coordinates = (4 , 5) # Tuple CAN NOT be changed after created\n",
    "print(coordinates[1])"
   ]
  },
  {
   "cell_type": "code",
   "execution_count": null,
   "id": "97895dbe",
   "metadata": {},
   "outputs": [],
   "source": [
    "coordinates = (4 , 5) # Tuple CAN NOT be changed after created\n",
    "coordinates[1] = 10\n",
    "print(coordinates[1])"
   ]
  },
  {
   "cell_type": "code",
   "execution_count": null,
   "id": "f4d206da",
   "metadata": {},
   "outputs": [],
   "source": [
    "coordinates = [(4 , 5) , (6 , 7) , (80 , 34)]"
   ]
  }
 ],
 "metadata": {
  "kernelspec": {
   "display_name": "Python 3 (ipykernel)",
   "language": "python",
   "name": "python3"
  },
  "language_info": {
   "codemirror_mode": {
    "name": "ipython",
    "version": 3
   },
   "file_extension": ".py",
   "mimetype": "text/x-python",
   "name": "python",
   "nbconvert_exporter": "python",
   "pygments_lexer": "ipython3",
   "version": "3.8.10"
  }
 },
 "nbformat": 4,
 "nbformat_minor": 5
}
